{
 "cells": [
  {
   "cell_type": "code",
   "execution_count": 2,
   "source": [
    "import os"
   ],
   "outputs": [],
   "metadata": {}
  },
  {
   "cell_type": "code",
   "execution_count": 3,
   "source": [
    "print(dir(os))"
   ],
   "outputs": [
    {
     "output_type": "stream",
     "name": "stdout",
     "text": [
      "['DirEntry', 'F_OK', 'MutableMapping', 'O_APPEND', 'O_BINARY', 'O_CREAT', 'O_EXCL', 'O_NOINHERIT', 'O_RANDOM', 'O_RDONLY', 'O_RDWR', 'O_SEQUENTIAL', 'O_SHORT_LIVED', 'O_TEMPORARY', 'O_TEXT', 'O_TRUNC', 'O_WRONLY', 'P_DETACH', 'P_NOWAIT', 'P_NOWAITO', 'P_OVERLAY', 'P_WAIT', 'PathLike', 'R_OK', 'SEEK_CUR', 'SEEK_END', 'SEEK_SET', 'TMP_MAX', 'W_OK', 'X_OK', '_AddedDllDirectory', '_Environ', '__all__', '__builtins__', '__cached__', '__doc__', '__file__', '__loader__', '__name__', '__package__', '__spec__', '_check_methods', '_execvpe', '_exists', '_exit', '_fspath', '_get_exports_list', '_putenv', '_unsetenv', '_wrap_close', 'abc', 'abort', 'access', 'add_dll_directory', 'altsep', 'chdir', 'chmod', 'close', 'closerange', 'cpu_count', 'curdir', 'defpath', 'device_encoding', 'devnull', 'dup', 'dup2', 'environ', 'error', 'execl', 'execle', 'execlp', 'execlpe', 'execv', 'execve', 'execvp', 'execvpe', 'extsep', 'fdopen', 'fsdecode', 'fsencode', 'fspath', 'fstat', 'fsync', 'ftruncate', 'get_exec_path', 'get_handle_inheritable', 'get_inheritable', 'get_terminal_size', 'getcwd', 'getcwdb', 'getenv', 'getlogin', 'getpid', 'getppid', 'isatty', 'kill', 'linesep', 'link', 'listdir', 'lseek', 'lstat', 'makedirs', 'mkdir', 'name', 'open', 'pardir', 'path', 'pathsep', 'pipe', 'popen', 'putenv', 'read', 'readlink', 'remove', 'removedirs', 'rename', 'renames', 'replace', 'rmdir', 'scandir', 'sep', 'set_handle_inheritable', 'set_inheritable', 'spawnl', 'spawnle', 'spawnv', 'spawnve', 'st', 'startfile', 'stat', 'stat_result', 'statvfs_result', 'strerror', 'supports_bytes_environ', 'supports_dir_fd', 'supports_effective_ids', 'supports_fd', 'supports_follow_symlinks', 'symlink', 'sys', 'system', 'terminal_size', 'times', 'times_result', 'truncate', 'umask', 'uname_result', 'unlink', 'urandom', 'utime', 'waitpid', 'walk', 'write']\n"
     ]
    }
   ],
   "metadata": {}
  },
  {
   "cell_type": "code",
   "execution_count": 4,
   "source": [
    "print(os.getcwd())"
   ],
   "outputs": [
    {
     "output_type": "stream",
     "name": "stdout",
     "text": [
      "c:\\Users\\Aaron Wilson\\Desktop\\BMI_6017\\Python\\exerPythOsTutorial\n"
     ]
    }
   ],
   "metadata": {}
  },
  {
   "cell_type": "code",
   "execution_count": 16,
   "source": [
    "os.chdir(r'c:\\Users\\Aaron Wilson\\Desktop\\BMI_6017\\Python\\exerPythOsTutorial')"
   ],
   "outputs": [],
   "metadata": {}
  },
  {
   "cell_type": "code",
   "execution_count": 17,
   "source": [
    "os.listdir()"
   ],
   "outputs": [
    {
     "output_type": "execute_result",
     "data": {
      "text/plain": [
       "['.git', 'OSTutorial.ipynb', 'README.md']"
      ]
     },
     "metadata": {},
     "execution_count": 17
    }
   ],
   "metadata": {}
  },
  {
   "cell_type": "code",
   "execution_count": 22,
   "source": [
    "os.mkdir('Demo')"
   ],
   "outputs": [],
   "metadata": {}
  },
  {
   "cell_type": "code",
   "execution_count": 24,
   "source": [
    "os.makedirs('Demo1')"
   ],
   "outputs": [],
   "metadata": {}
  },
  {
   "cell_type": "code",
   "execution_count": 25,
   "source": [
    "os.rmdir('Demo')"
   ],
   "outputs": [],
   "metadata": {}
  },
  {
   "cell_type": "code",
   "execution_count": 27,
   "source": [
    "os.removedirs('Demo1')"
   ],
   "outputs": [],
   "metadata": {}
  },
  {
   "cell_type": "code",
   "execution_count": 28,
   "source": [
    "os.rename('test.txt','demo.txt')"
   ],
   "outputs": [],
   "metadata": {}
  },
  {
   "cell_type": "code",
   "execution_count": 29,
   "source": [
    "print(os.stat('demo.txt'))"
   ],
   "outputs": [
    {
     "output_type": "stream",
     "name": "stdout",
     "text": [
      "os.stat_result(st_mode=33206, st_ino=5629499534330205, st_dev=405592266, st_nlink=1, st_uid=0, st_gid=0, st_size=0, st_atime=1631549797, st_mtime=1631549797, st_ctime=1631549797)\n"
     ]
    }
   ],
   "metadata": {}
  },
  {
   "cell_type": "code",
   "execution_count": 34,
   "source": [
    "print(os.stat('demo.txt').st_mtime)"
   ],
   "outputs": [
    {
     "output_type": "stream",
     "name": "stdout",
     "text": [
      "1631549797.8857448\n"
     ]
    }
   ],
   "metadata": {}
  },
  {
   "cell_type": "code",
   "execution_count": 35,
   "source": [
    "mod_time = os.stat('demo.txt').st_mtime"
   ],
   "outputs": [],
   "metadata": {}
  },
  {
   "cell_type": "code",
   "execution_count": 30,
   "source": [
    "from datetime import datetime"
   ],
   "outputs": [],
   "metadata": {}
  },
  {
   "cell_type": "code",
   "execution_count": 37,
   "source": [
    "print(datetime.fromtimestamp(mod_time))"
   ],
   "outputs": [
    {
     "output_type": "stream",
     "name": "stdout",
     "text": [
      "2021-09-13 10:16:37.885745\n"
     ]
    }
   ],
   "metadata": {}
  },
  {
   "cell_type": "code",
   "execution_count": 43,
   "source": [
    "for dirpath, dirnames, filenames in os.walk(r'c:\\Users\\Aaron Wilson\\Desktop\\BMI_6017\\Python\\exerPythOsTutorial'):\r\n",
    "    print('Current Path:', dirpath)\r\n",
    "    print('Directories:', dirnames)\r\n",
    "    print('Files:', filenames)\r\n",
    "    print()"
   ],
   "outputs": [
    {
     "output_type": "stream",
     "name": "stdout",
     "text": [
      "Current Path: c:\\Users\\Aaron Wilson\\Desktop\\BMI_6017\\Python\\exerPythOsTutorial\n",
      "Directories: ['.git']\n",
      "Files: ['demo.txt', 'OSTutorial.ipynb', 'README.md']\n",
      "\n",
      "Current Path: c:\\Users\\Aaron Wilson\\Desktop\\BMI_6017\\Python\\exerPythOsTutorial\\.git\n",
      "Directories: ['hooks', 'info', 'logs', 'objects', 'refs']\n",
      "Files: ['config', 'description', 'HEAD', 'index', 'packed-refs']\n",
      "\n",
      "Current Path: c:\\Users\\Aaron Wilson\\Desktop\\BMI_6017\\Python\\exerPythOsTutorial\\.git\\hooks\n",
      "Directories: []\n",
      "Files: ['applypatch-msg.sample', 'commit-msg.sample', 'fsmonitor-watchman.sample', 'post-update.sample', 'pre-applypatch.sample', 'pre-commit.sample', 'pre-merge-commit.sample', 'pre-push.sample', 'pre-rebase.sample', 'pre-receive.sample', 'prepare-commit-msg.sample', 'push-to-checkout.sample', 'update.sample']\n",
      "\n",
      "Current Path: c:\\Users\\Aaron Wilson\\Desktop\\BMI_6017\\Python\\exerPythOsTutorial\\.git\\info\n",
      "Directories: []\n",
      "Files: ['exclude']\n",
      "\n",
      "Current Path: c:\\Users\\Aaron Wilson\\Desktop\\BMI_6017\\Python\\exerPythOsTutorial\\.git\\logs\n",
      "Directories: ['refs']\n",
      "Files: ['HEAD']\n",
      "\n",
      "Current Path: c:\\Users\\Aaron Wilson\\Desktop\\BMI_6017\\Python\\exerPythOsTutorial\\.git\\logs\\refs\n",
      "Directories: ['heads', 'remotes']\n",
      "Files: []\n",
      "\n",
      "Current Path: c:\\Users\\Aaron Wilson\\Desktop\\BMI_6017\\Python\\exerPythOsTutorial\\.git\\logs\\refs\\heads\n",
      "Directories: []\n",
      "Files: ['master']\n",
      "\n",
      "Current Path: c:\\Users\\Aaron Wilson\\Desktop\\BMI_6017\\Python\\exerPythOsTutorial\\.git\\logs\\refs\\remotes\n",
      "Directories: ['origin']\n",
      "Files: []\n",
      "\n",
      "Current Path: c:\\Users\\Aaron Wilson\\Desktop\\BMI_6017\\Python\\exerPythOsTutorial\\.git\\logs\\refs\\remotes\\origin\n",
      "Directories: []\n",
      "Files: ['HEAD']\n",
      "\n",
      "Current Path: c:\\Users\\Aaron Wilson\\Desktop\\BMI_6017\\Python\\exerPythOsTutorial\\.git\\objects\n",
      "Directories: ['info', 'pack']\n",
      "Files: []\n",
      "\n",
      "Current Path: c:\\Users\\Aaron Wilson\\Desktop\\BMI_6017\\Python\\exerPythOsTutorial\\.git\\objects\\info\n",
      "Directories: []\n",
      "Files: []\n",
      "\n",
      "Current Path: c:\\Users\\Aaron Wilson\\Desktop\\BMI_6017\\Python\\exerPythOsTutorial\\.git\\objects\\pack\n",
      "Directories: []\n",
      "Files: ['pack-3dcd781a7c96ffa7eb4340c2085d98e627b1fcc6.idx', 'pack-3dcd781a7c96ffa7eb4340c2085d98e627b1fcc6.pack']\n",
      "\n",
      "Current Path: c:\\Users\\Aaron Wilson\\Desktop\\BMI_6017\\Python\\exerPythOsTutorial\\.git\\refs\n",
      "Directories: ['heads', 'remotes', 'tags']\n",
      "Files: []\n",
      "\n",
      "Current Path: c:\\Users\\Aaron Wilson\\Desktop\\BMI_6017\\Python\\exerPythOsTutorial\\.git\\refs\\heads\n",
      "Directories: []\n",
      "Files: ['master']\n",
      "\n",
      "Current Path: c:\\Users\\Aaron Wilson\\Desktop\\BMI_6017\\Python\\exerPythOsTutorial\\.git\\refs\\remotes\n",
      "Directories: ['origin']\n",
      "Files: []\n",
      "\n",
      "Current Path: c:\\Users\\Aaron Wilson\\Desktop\\BMI_6017\\Python\\exerPythOsTutorial\\.git\\refs\\remotes\\origin\n",
      "Directories: []\n",
      "Files: ['HEAD']\n",
      "\n",
      "Current Path: c:\\Users\\Aaron Wilson\\Desktop\\BMI_6017\\Python\\exerPythOsTutorial\\.git\\refs\\tags\n",
      "Directories: []\n",
      "Files: []\n",
      "\n"
     ]
    }
   ],
   "metadata": {}
  },
  {
   "cell_type": "code",
   "execution_count": 65,
   "source": [
    "print(os.environ.get('HOME'))"
   ],
   "outputs": [
    {
     "output_type": "stream",
     "name": "stdout",
     "text": [
      "None\n"
     ]
    }
   ],
   "metadata": {}
  },
  {
   "cell_type": "code",
   "execution_count": 66,
   "source": [
    "os.path.join(os.environ.get('HOME'),'test.txt')"
   ],
   "outputs": [
    {
     "output_type": "error",
     "ename": "TypeError",
     "evalue": "expected str, bytes or os.PathLike object, not NoneType",
     "traceback": [
      "\u001b[1;31m---------------------------------------------------------------------------\u001b[0m",
      "\u001b[1;31mTypeError\u001b[0m                                 Traceback (most recent call last)",
      "\u001b[1;32m<ipython-input-66-2acd78422af6>\u001b[0m in \u001b[0;36m<module>\u001b[1;34m\u001b[0m\n\u001b[1;32m----> 1\u001b[1;33m \u001b[0mos\u001b[0m\u001b[1;33m.\u001b[0m\u001b[0mpath\u001b[0m\u001b[1;33m.\u001b[0m\u001b[0mjoin\u001b[0m\u001b[1;33m(\u001b[0m\u001b[0mos\u001b[0m\u001b[1;33m.\u001b[0m\u001b[0menviron\u001b[0m\u001b[1;33m.\u001b[0m\u001b[0mget\u001b[0m\u001b[1;33m(\u001b[0m\u001b[1;34m'HOME'\u001b[0m\u001b[1;33m)\u001b[0m\u001b[1;33m,\u001b[0m\u001b[1;34m'test.txt'\u001b[0m\u001b[1;33m)\u001b[0m\u001b[1;33m\u001b[0m\u001b[1;33m\u001b[0m\u001b[0m\n\u001b[0m",
      "\u001b[1;32m~\\anaconda3\\lib\\ntpath.py\u001b[0m in \u001b[0;36mjoin\u001b[1;34m(path, *paths)\u001b[0m\n\u001b[0;32m     76\u001b[0m \u001b[1;31m# Join two (or more) paths.\u001b[0m\u001b[1;33m\u001b[0m\u001b[1;33m\u001b[0m\u001b[1;33m\u001b[0m\u001b[0m\n\u001b[0;32m     77\u001b[0m \u001b[1;32mdef\u001b[0m \u001b[0mjoin\u001b[0m\u001b[1;33m(\u001b[0m\u001b[0mpath\u001b[0m\u001b[1;33m,\u001b[0m \u001b[1;33m*\u001b[0m\u001b[0mpaths\u001b[0m\u001b[1;33m)\u001b[0m\u001b[1;33m:\u001b[0m\u001b[1;33m\u001b[0m\u001b[1;33m\u001b[0m\u001b[0m\n\u001b[1;32m---> 78\u001b[1;33m     \u001b[0mpath\u001b[0m \u001b[1;33m=\u001b[0m \u001b[0mos\u001b[0m\u001b[1;33m.\u001b[0m\u001b[0mfspath\u001b[0m\u001b[1;33m(\u001b[0m\u001b[0mpath\u001b[0m\u001b[1;33m)\u001b[0m\u001b[1;33m\u001b[0m\u001b[1;33m\u001b[0m\u001b[0m\n\u001b[0m\u001b[0;32m     79\u001b[0m     \u001b[1;32mif\u001b[0m \u001b[0misinstance\u001b[0m\u001b[1;33m(\u001b[0m\u001b[0mpath\u001b[0m\u001b[1;33m,\u001b[0m \u001b[0mbytes\u001b[0m\u001b[1;33m)\u001b[0m\u001b[1;33m:\u001b[0m\u001b[1;33m\u001b[0m\u001b[1;33m\u001b[0m\u001b[0m\n\u001b[0;32m     80\u001b[0m         \u001b[0msep\u001b[0m \u001b[1;33m=\u001b[0m \u001b[1;34mb'\\\\'\u001b[0m\u001b[1;33m\u001b[0m\u001b[1;33m\u001b[0m\u001b[0m\n",
      "\u001b[1;31mTypeError\u001b[0m: expected str, bytes or os.PathLike object, not NoneType"
     ]
    }
   ],
   "metadata": {}
  },
  {
   "cell_type": "code",
   "execution_count": 71,
   "source": [
    "os.path.basename(r'c:\\Users\\Aaron Wilson\\Desktop\\BMI_6017\\Python\\exerPythOsTutorial')"
   ],
   "outputs": [
    {
     "output_type": "execute_result",
     "data": {
      "text/plain": [
       "'exerPythOsTutorial'"
      ]
     },
     "metadata": {},
     "execution_count": 71
    }
   ],
   "metadata": {}
  },
  {
   "cell_type": "code",
   "execution_count": 70,
   "source": [
    "os.path.dirname(r'c:\\Users\\Aaron Wilson\\Desktop\\BMI_6017\\Python\\exerPythOsTutorial')"
   ],
   "outputs": [
    {
     "output_type": "execute_result",
     "data": {
      "text/plain": [
       "'c:\\\\Users\\\\Aaron Wilson\\\\Desktop\\\\BMI_6017\\\\Python'"
      ]
     },
     "metadata": {},
     "execution_count": 70
    }
   ],
   "metadata": {}
  },
  {
   "cell_type": "code",
   "execution_count": 72,
   "source": [
    "os.path.split(r'c:\\Users\\Aaron Wilson\\Desktop\\BMI_6017\\Python\\exerPythOsTutorial')"
   ],
   "outputs": [
    {
     "output_type": "execute_result",
     "data": {
      "text/plain": [
       "('c:\\\\Users\\\\Aaron Wilson\\\\Desktop\\\\BMI_6017\\\\Python', 'exerPythOsTutorial')"
      ]
     },
     "metadata": {},
     "execution_count": 72
    }
   ],
   "metadata": {}
  },
  {
   "cell_type": "code",
   "execution_count": 73,
   "source": [
    "os.path.exists(r'c:\\Users\\Aaron Wilson\\Desktop\\BMI_6017\\Python\\exerPythOsTutorial')"
   ],
   "outputs": [
    {
     "output_type": "execute_result",
     "data": {
      "text/plain": [
       "True"
      ]
     },
     "metadata": {},
     "execution_count": 73
    }
   ],
   "metadata": {}
  },
  {
   "cell_type": "code",
   "execution_count": 74,
   "source": [
    "os.path.isdir(r'c:\\Users\\Aaron Wilson\\Desktop\\BMI_6017\\Python\\exerPythOsTutorial')"
   ],
   "outputs": [
    {
     "output_type": "execute_result",
     "data": {
      "text/plain": [
       "True"
      ]
     },
     "metadata": {},
     "execution_count": 74
    }
   ],
   "metadata": {}
  },
  {
   "cell_type": "code",
   "execution_count": 75,
   "source": [
    "os.path.isfile(r'c:\\Users\\Aaron Wilson\\Desktop\\BMI_6017\\Python\\exerPythOsTutorial')"
   ],
   "outputs": [
    {
     "output_type": "execute_result",
     "data": {
      "text/plain": [
       "False"
      ]
     },
     "metadata": {},
     "execution_count": 75
    }
   ],
   "metadata": {}
  },
  {
   "cell_type": "code",
   "execution_count": 76,
   "source": [
    "os.path.splitext(r'c:\\Users\\Aaron Wilson\\Desktop\\BMI_6017\\Python\\exerPythOsTutorial')"
   ],
   "outputs": [
    {
     "output_type": "execute_result",
     "data": {
      "text/plain": [
       "('c:\\\\Users\\\\Aaron Wilson\\\\Desktop\\\\BMI_6017\\\\Python\\\\exerPythOsTutorial', '')"
      ]
     },
     "metadata": {},
     "execution_count": 76
    }
   ],
   "metadata": {}
  },
  {
   "cell_type": "code",
   "execution_count": 77,
   "source": [
    "# https://docs.python.org/3/"
   ],
   "outputs": [],
   "metadata": {}
  },
  {
   "cell_type": "code",
   "execution_count": null,
   "source": [
    "# https://docs.python.org/3/library/os.html"
   ],
   "outputs": [],
   "metadata": {}
  }
 ],
 "metadata": {
  "orig_nbformat": 4,
  "language_info": {
   "name": "python",
   "version": "3.8.8",
   "mimetype": "text/x-python",
   "codemirror_mode": {
    "name": "ipython",
    "version": 3
   },
   "pygments_lexer": "ipython3",
   "nbconvert_exporter": "python",
   "file_extension": ".py"
  },
  "kernelspec": {
   "name": "python3",
   "display_name": "Python 3.8.8 64-bit ('base': conda)"
  },
  "interpreter": {
   "hash": "2a11790902704dc6bb7eb9b0cc36ba8d9bfcef8051a10a2cc2f6462a1c7ebcad"
  }
 },
 "nbformat": 4,
 "nbformat_minor": 2
}